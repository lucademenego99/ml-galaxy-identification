{
  "nbformat": 4,
  "nbformat_minor": 0,
  "metadata": {
    "colab": {
      "name": "IntroductionToMachineLearningProject.ipynb",
      "provenance": [],
      "collapsed_sections": [
        "MOcu7yFWWlrr",
        "U4647ZxtXN6m",
        "yQvtvKJxXov8",
        "momgHR1_X9FP",
        "NQdf3BreYEdw",
        "B0gcAUC8YRb1",
        "8B3LPndzYX_L",
        "wsFFvIILYcWa",
        "zLz_SeH7b_ww",
        "BimZk_V1hFqY",
        "RpxXHwm9iwyL",
        "s5jkwXaki4sJ",
        "VvBtLo-ohuCE",
        "m7Wy6xprhyVl",
        "0uJFYzjmiD0u",
        "25qOCOqXiHgF",
        "JCUMoKuiiMLZ",
        "pXRxoIBmiRVe",
        "NA2_fJu0iX02",
        "uGeXtEKYZB6U",
        "MuwwRcvXj-Zu",
        "PadHtpeWjR0z",
        "JhgxliQ8jZL9",
        "ZXJMiFYLjdN0",
        "OtpxeNdmjhp0",
        "BNQ8uLnAjls2",
        "8rTyqpTMjoRg",
        "D_iCTSsZjs6S",
        "waXLU-ZejwKF",
        "Jxf9HFgtXT_L",
        "oZo3ySEOXepT",
        "xdLune6SXlz3",
        "CGb7iba0XqCS",
        "WbaVSQ5TXs9Q",
        "AwsN-PJeXv3J"
      ],
      "include_colab_link": true
    },
    "kernelspec": {
      "name": "python3",
      "display_name": "Python 3"
    },
    "language_info": {
      "name": "python"
    },
    "accelerator": "GPU"
  },
  "cells": [
    {
      "cell_type": "markdown",
      "metadata": {
        "id": "view-in-github",
        "colab_type": "text"
      },
      "source": [
        "<a href=\"https://colab.research.google.com/github/lucademenego99/ml-galaxy-identification/blob/main/MachineLearningProject.ipynb\" target=\"_parent\"><img src=\"https://colab.research.google.com/assets/colab-badge.svg\" alt=\"Open In Colab\"/></a>"
      ]
    },
    {
      "cell_type": "markdown",
      "source": [
        "# Problem Statement\n",
        "\n",
        "The objective of the project was to develop an algorithm able to identify, given an RGB image of a galaxy as input, the morphological class it belongs to. In details, we had 10 possible classes: disturbed, merging, round smooth, in-between round smooth, cigar round smooth, barred spiral, unbarred tight spiral, unbarred loose spiral, edge-on with bulge and edge-on without bulge. The dataset provided consisted of 17.736 images of size 256 ×256, divided in\n",
        "train set (12.415 labelled examples) and test set (5.321 non-labelled examples). However, 20% of the training set hasbeen used as validation set, and below accuracies were calculated based on it."
      ],
      "metadata": {
        "id": "sFagH5BfZqLn"
      }
    },
    {
      "cell_type": "markdown",
      "metadata": {
        "id": "MOcu7yFWWlrr"
      },
      "source": [
        "# Initialization\n",
        "- Install needed packages\n",
        "- Define useful global variables\n",
        "- Get the device we will use (CPU vs GPU)\n",
        "- Define a ClassificationMetrics class to track the accuracy of our models"
      ]
    },
    {
      "cell_type": "code",
      "metadata": {
        "colab": {
          "base_uri": "https://localhost:8080/"
        },
        "id": "Vfpv0r0nWiCG",
        "outputId": "cbfa77e4-e81d-4a2d-eb93-65394390d92e"
      },
      "source": [
        "# Install pytorch-ligthning-bolts for LinearWarmupCosineAnnealingLR scheduler\n",
        "!pip install pytorch-lightning-bolts\n",
        "\n",
        "# Enable tensorboard in the notebook\n",
        "%load_ext tensorboard\n",
        "\n",
        "# Device to use\n",
        "import torch\n",
        "DEVICE = torch.device(\"cuda:0\" if torch.cuda.is_available() else \"cpu\")\n",
        "print(\"Using device\", DEVICE)\n",
        "\n",
        "# Labels to index and vice versa\n",
        "LABELS_TO_IDX = {\n",
        "  \"Disturbed\": 0, \n",
        "  \"Merging\": 1, \n",
        "  \"Round Smooth\": 2, \n",
        "  \"In-between Round Smooth\": 3, \n",
        "  \"Cigar Shaped Smooth\": 4, \n",
        "  \"Barred Spiral\": 5, \n",
        "  \"Unbarred Tight Spiral\": 6, \n",
        "  \"Unbarred Loose Spiral\": 7, \n",
        "  \"Edge-on without Bulge\": 8, \n",
        "  \"Edge-on with Bulge\": 9\n",
        "}\n",
        "IDX_TO_LABELS = {\n",
        "  0: \"Disturbed\",\n",
        "  1: \"Merging\", \n",
        "  2: \"Round Smooth\", \n",
        "  3: \"In-between Round Smooth\", \n",
        "  4: \"Cigar Shaped Smooth\", \n",
        "  5: \"Barred Spiral\", \n",
        "  6: \"Unbarred Tight Spiral\", \n",
        "  7: \"Unbarred Loose Spiral\", \n",
        "  8: \"Edge-on without Bulge\", \n",
        "  9: \"Edge-on with Bulge\"\n",
        "}"
      ],
      "execution_count": null,
      "outputs": [
        {
          "output_type": "stream",
          "text": [
            "Using device cuda:0\n"
          ],
          "name": "stdout"
        }
      ]
    },
    {
      "cell_type": "markdown",
      "metadata": {
        "id": "U4647ZxtXN6m"
      },
      "source": [
        "## Performance Evaluation\n",
        "\n",
        "Since we will train and evaluate the neural network by breaking the dataset into mini-batches, we implement a class to track:\n",
        "- global accuracy (Acc); \n",
        "- class-averaged accuracy (mAcc);\n",
        "- class-averaged Intersection over Union (mIoU)."
      ]
    },
    {
      "cell_type": "code",
      "metadata": {
        "id": "IfepL7JTXZ2Q"
      },
      "source": [
        "class ClassificationMetrics:\n",
        "\n",
        "  # Constructor takes the number of classes\n",
        "  def __init__(self, num_classes=10):\n",
        "    self.num_classes = num_classes\n",
        "    # Initialize a confusion matrix\n",
        "    self.C = torch.zeros(num_classes, num_classes)\n",
        "    self.C = self.C.to(DEVICE)\n",
        "\n",
        "  # Update the confusion matrix with the new scores\n",
        "  def add(self, yp, yt):\n",
        "    self.C = self.C.to(DEVICE)\n",
        "    # yp: 1D tensor with predictions\n",
        "    # yt: 1D tensor with ground-truth targets\n",
        "    with torch.no_grad(): # We require no computation graph\n",
        "      self.C+=(yt*self.C.shape[1]+yp).bincount(minlength=self.C.numel()).view(self.C.shape).float()\n",
        "\n",
        "  def clear(self):\n",
        "    # We set the confusion matrix to zero\n",
        "    self.C.zero_()\n",
        "\n",
        "  # Computes the global accuracy\n",
        "  def acc(self):\n",
        "    return self.C.diag().sum().item()/self.C.sum()\n",
        "\n",
        "  # Computes the class-averaged accuracy\n",
        "  def mAcc(self):\n",
        "    return (self.C.diag()/self.C.sum(-1)).mean().item()\n",
        "\n",
        "  # Computers the class-averaged Intersection over Union\n",
        "  def mIoU(self):\n",
        "    return (self.C.diag()/(self.C.sum(0)+self.C.sum(1)-self.C.diag())).mean().item()\n",
        "\n",
        "  # Returns the confusion matrix\n",
        "  def confusion_matrix(self):\n",
        "    return self.C"
      ],
      "execution_count": null,
      "outputs": []
    },
    {
      "cell_type": "markdown",
      "metadata": {
        "id": "yQvtvKJxXov8"
      },
      "source": [
        "# Download the dataset from Google Drive\n",
        "\n",
        "Run this piece of code only if the dataset is not already downloaded in the notebook and unzipped.\n",
        "\n",
        "**Note**: use the university account in order to get access to the dataset."
      ]
    },
    {
      "cell_type": "code",
      "metadata": {
        "colab": {
          "base_uri": "https://localhost:8080/"
        },
        "id": "HQDPEQXrXsLR",
        "outputId": "bc0b7650-6c6b-483f-8cef-8a03b2eac9fe"
      },
      "source": [
        "from google.colab import drive\n",
        "# Mount my drive\n",
        "drive.mount('/content/drive')\n",
        "\n",
        "# Untar the dataset\n",
        "!tar -zxf drive/MyDrive/dataset.tar.gz\n",
        "\n",
        "# Print number of train and test examples\n",
        "!echo \"TEST DATA: \"; find dataset/test -type f | wc -l\n",
        "!echo\n",
        "!echo \"TRAIN DATA: \"; find dataset/train -type f | wc -l"
      ],
      "execution_count": null,
      "outputs": [
        {
          "output_type": "stream",
          "text": [
            "Mounted at /content/drive\n",
            "TEST DATA: \n",
            "5321\n",
            "\n",
            "TRAIN DATA: \n",
            "12415\n"
          ],
          "name": "stdout"
        }
      ]
    },
    {
      "cell_type": "markdown",
      "metadata": {
        "id": "momgHR1_X9FP"
      },
      "source": [
        "# K-NN, Random Forests and SVM\n",
        "\n",
        "We are trying different methods for the extraction of features. In particular:\n",
        "- **Resized images**\n",
        "- **Color histogram**\n",
        "- **Pre-trained torchvision models** (ResNet18)"
      ]
    },
    {
      "cell_type": "markdown",
      "metadata": {
        "id": "NQdf3BreYEdw"
      },
      "source": [
        "## With resized images"
      ]
    },
    {
      "cell_type": "code",
      "metadata": {
        "id": "jD3IkPl1YGHx"
      },
      "source": [
        "from sklearn.model_selection import train_test_split\n",
        "from torchvision import transforms\n",
        "from imutils import paths\n",
        "from tqdm import tqdm\n",
        "from PIL import Image\n",
        "\n",
        "# Transformation we will use\n",
        "transform = transforms.Compose([\n",
        "    transforms.CenterCrop(150),\n",
        "    transforms.Resize((30, 30)),\n",
        "    transforms.ToTensor()\n",
        "])\n",
        "\n",
        "# Get images paths\n",
        "trainImagePaths = list(paths.list_images(\"dataset/train\"))\n",
        "\n",
        "# Prepare some arrays that will store our features and labels\n",
        "X, y = [], []\n",
        "for imagePath in tqdm(trainImagePaths):\n",
        "  image = Image.open(imagePath)\n",
        "  image = transform(image)\n",
        "  image = torch.unsqueeze(image, 0)\n",
        "  X.append(image.cpu().detach().numpy().reshape(-1))\n",
        "  y.append(imagePath.split(\"/\")[2])\n",
        "\n",
        "# Split in train data and test data\n",
        "(X_train, X_test, y_train, y_test) = train_test_split(X, y, test_size=0.20, random_state=42)"
      ],
      "execution_count": null,
      "outputs": []
    },
    {
      "cell_type": "markdown",
      "metadata": {
        "id": "B0gcAUC8YRb1"
      },
      "source": [
        "### K-NN"
      ]
    },
    {
      "cell_type": "code",
      "metadata": {
        "colab": {
          "base_uri": "https://localhost:8080/"
        },
        "id": "0Bs4fgo4YShW",
        "outputId": "258343aa-67f6-4784-d76b-8b4786a54d4d"
      },
      "source": [
        "from sklearn import neighbors\n",
        "\n",
        "print(\"K-NN test with resized images\")\n",
        "knn_model = neighbors.KNeighborsClassifier(n_jobs=-1, weights='distance')\n",
        "\n",
        "knn_model.fit(X_train, y_train)\n",
        "\n",
        "res = knn_model.score(X_test, y_test)\n",
        "print(\"Score: {:.2f}%\".format(res * 100))"
      ],
      "execution_count": null,
      "outputs": [
        {
          "output_type": "stream",
          "text": [
            "KNN\n",
            "Score: 50.91%\n"
          ],
          "name": "stdout"
        }
      ]
    },
    {
      "cell_type": "markdown",
      "metadata": {
        "id": "8B3LPndzYX_L"
      },
      "source": [
        "### Random forests"
      ]
    },
    {
      "cell_type": "code",
      "metadata": {
        "colab": {
          "base_uri": "https://localhost:8080/"
        },
        "id": "cjHliYWJYZgG",
        "outputId": "19b6d885-029e-4cb5-babb-f4532cbee86d"
      },
      "source": [
        "from sklearn import ensemble\n",
        "\n",
        "print(\"Random Forests test with resized images\")\n",
        "rf_model = ensemble.RandomForestClassifier()\n",
        "\n",
        "rf_model.fit(X_train, y_train)\n",
        "\n",
        "res = rf_model.score(X_test, y_test)\n",
        "print(\"Score: {:.2f}%\".format(res * 100))"
      ],
      "execution_count": null,
      "outputs": [
        {
          "output_type": "stream",
          "text": [
            "Random Forests test with resized images\n",
            "Score: 59.08%\n"
          ],
          "name": "stdout"
        }
      ]
    },
    {
      "cell_type": "markdown",
      "metadata": {
        "id": "wsFFvIILYcWa"
      },
      "source": [
        "### SVM"
      ]
    },
    {
      "cell_type": "code",
      "metadata": {
        "colab": {
          "base_uri": "https://localhost:8080/"
        },
        "id": "qU_J93jcYdLN",
        "outputId": "0fa22003-c443-4828-aecc-a36b0ed8bf8e"
      },
      "source": [
        "from sklearn import svm\n",
        "\n",
        "print(\"SVM test with resized images\")\n",
        "svm_model = svm.SVC()\n",
        "\n",
        "svm_model.fit(X_train, y_train)\n",
        "\n",
        "res = svm_model.score(X_test, y_test)\n",
        "print(\"Score: {:.2f}%\".format(res * 100))"
      ],
      "execution_count": null,
      "outputs": [
        {
          "output_type": "stream",
          "text": [
            "SVM test with resized images\n",
            "Score: 54.13%\n"
          ],
          "name": "stdout"
        }
      ]
    },
    {
      "cell_type": "markdown",
      "metadata": {
        "id": "zLz_SeH7b_ww"
      },
      "source": [
        "## With Color Histogram"
      ]
    },
    {
      "cell_type": "code",
      "metadata": {
        "id": "WyOrmXPrcUn_"
      },
      "source": [
        "from sklearn.model_selection import train_test_split\n",
        "from torchvision import transforms\n",
        "from imutils import paths\n",
        "from tqdm import tqdm\n",
        "from PIL import Image\n",
        "\n",
        "transform = transforms.Compose([\n",
        "  transforms.CenterCrop((224, 224)),\n",
        "  transforms.ToTensor()\n",
        "])\n",
        "\n",
        "# Get images paths\n",
        "trainImagePaths = list(paths.list_images(\"dataset/train\"))\n",
        "\n",
        "# Prepare some arrays that will store our features and labels\n",
        "X, y = [], []\n",
        "for imagePath in tqdm(trainImagePaths):\n",
        "  alg = cv2.KAZE_create()\n",
        "  image = Image.open(imagePath)\n",
        "  image = transform(image)\n",
        "  color_histogram = torch.histc(image, bins=256)\n",
        "  X.append(color_histogram.cpu().detach().numpy().reshape(-1))\n",
        "  y.append(imagePath.split(\"/\")[2])\n",
        "\n",
        "# Split in train data and test data\n",
        "(X_train, X_test, y_train, y_test) = train_test_split(X, y, test_size=0.20, random_state=42)"
      ],
      "execution_count": null,
      "outputs": []
    },
    {
      "cell_type": "markdown",
      "metadata": {
        "id": "BimZk_V1hFqY"
      },
      "source": [
        "### K-NN"
      ]
    },
    {
      "cell_type": "code",
      "metadata": {
        "colab": {
          "base_uri": "https://localhost:8080/"
        },
        "id": "X8p9fP-9hGme",
        "outputId": "a1713987-5ccc-47c6-960b-8c9003f0c954"
      },
      "source": [
        "from sklearn import neighbors\n",
        "\n",
        "print(\"K-NN test with color histogram\")\n",
        "knn_model = neighbors.KNeighborsClassifier(n_jobs=-1)\n",
        "\n",
        "knn_model.fit(X_train, y_train)\n",
        "\n",
        "res = knn_model.score(X_test, y_test)\n",
        "print(\"Score: {:.2f}%\".format(res * 100))"
      ],
      "execution_count": null,
      "outputs": [
        {
          "output_type": "stream",
          "text": [
            "K-NN test with color histogram\n",
            "Score: 23.24%\n"
          ],
          "name": "stdout"
        }
      ]
    },
    {
      "cell_type": "markdown",
      "metadata": {
        "id": "RpxXHwm9iwyL"
      },
      "source": [
        "### Random Forests"
      ]
    },
    {
      "cell_type": "code",
      "metadata": {
        "id": "z1hqF7lYiyJh",
        "colab": {
          "base_uri": "https://localhost:8080/"
        },
        "outputId": "9d44e214-88af-4c3e-fa46-639681a758f6"
      },
      "source": [
        "from sklearn import ensemble\n",
        "\n",
        "print(\"Random Forests with color histogram\")\n",
        "rf_model = ensemble.RandomForestClassifier()\n",
        "\n",
        "rf_model.fit(X_train, y_train)\n",
        "\n",
        "res = rf_model.score(X_test, y_test)\n",
        "print(\"Score: {:.2f}%\".format(res * 100))"
      ],
      "execution_count": null,
      "outputs": [
        {
          "output_type": "stream",
          "text": [
            "Random Forests with color histogram\n",
            "Score: 34.35%\n"
          ],
          "name": "stdout"
        }
      ]
    },
    {
      "cell_type": "markdown",
      "metadata": {
        "id": "s5jkwXaki4sJ"
      },
      "source": [
        "### SVM"
      ]
    },
    {
      "cell_type": "code",
      "metadata": {
        "id": "Bu96XQEmi5i5",
        "colab": {
          "base_uri": "https://localhost:8080/"
        },
        "outputId": "c044b6a2-6397-499b-c5e4-d79ceffd8521"
      },
      "source": [
        "from sklearn import svm\n",
        "\n",
        "print(\"SVM with color histogram\")\n",
        "svm_model = svm.SVC()\n",
        "\n",
        "svm_model.fit(X_train, y_train)\n",
        "\n",
        "res = svm_model.score(X_test, y_test)\n",
        "print(\"Score: {:.2f}%\".format(res * 100))"
      ],
      "execution_count": null,
      "outputs": [
        {
          "output_type": "stream",
          "text": [
            "SVM with color histogram\n",
            "Score: 24.20%\n"
          ],
          "name": "stdout"
        }
      ]
    },
    {
      "cell_type": "markdown",
      "metadata": {
        "id": "VvBtLo-ohuCE"
      },
      "source": [
        "## With pre-trained model as feature extractor"
      ]
    },
    {
      "cell_type": "markdown",
      "metadata": {
        "id": "m7Wy6xprhyVl"
      },
      "source": [
        "### Create datasets and dataloaders"
      ]
    },
    {
      "cell_type": "code",
      "metadata": {
        "id": "glGx74yrhxBm",
        "colab": {
          "base_uri": "https://localhost:8080/"
        },
        "outputId": "a8e9720e-cf4e-46bf-cb78-c611f12de4d0"
      },
      "source": [
        "from torch.utils.data import Dataset, DataLoader\n",
        "from torchvision import transforms\n",
        "from imutils import paths\n",
        "import pandas as pn\n",
        "import numpy as np\n",
        "import random\n",
        "\n",
        "# split_by_percentage splits the examples given a certain percentage, shuffling all_examples\n",
        "def split_by_percentage(all_examples, percentage):\n",
        "    how_many_examples_first_part = int(round(percentage*len(all_examples)))\n",
        "    shuffled = all_examples[:]\n",
        "    random.shuffle(shuffled)\n",
        "    return shuffled[how_many_examples_first_part:], shuffled[:how_many_examples_first_part]\n",
        "\n",
        "# Let's define the batch size for our neural network\n",
        "BATCH_SIZE = 64\n",
        "\n",
        "# Transforms\n",
        "mean = np.array([0.485, 0.456, 0.406])\n",
        "std = np.array([0.229, 0.224, 0.225])\n",
        "transform = transforms.Compose([\n",
        "    transforms.CenterCrop(224),\n",
        "    transforms.ToTensor(),\n",
        "    transforms.Normalize(mean, std)\n",
        "])\n",
        "\n",
        "# GalaxyDataset implements a torch Dataset, defining the __init__, the __len__ and the __getitem__ functions\n",
        "class GalaxyDataset(Dataset):\n",
        "    # Put all input images inside a pandas.DataFrame, set the transformation if given\n",
        "    def __init__(self, images, transform=None):\n",
        "        self.paths = pn.DataFrame([[i, LABELS_TO_IDX[i.split(\"/\")[2]]] for i in images])\n",
        "        self.transform = transform\n",
        "\n",
        "    def __len__(self):\n",
        "        return len(self.paths)\n",
        "\n",
        "    # Open the images only in the __getitem__, so that we can have all their features one batch at a time\n",
        "    def __getitem__(self, idx):\n",
        "        if torch.is_tensor(idx):\n",
        "            idx = idx.tolist()\n",
        "\n",
        "        # Get the images names from self.paths\n",
        "        img_name = self.paths.iloc[idx, 0]\n",
        "        # Open the images and get their labels\n",
        "        image = Image.open(img_name)\n",
        "        label = self.paths.iloc[idx, 1]\n",
        "        \n",
        "        # Transform the image if a transformation has been provided during the __init__\n",
        "        if self.transform:\n",
        "            image = self.transform(image)\n",
        "\n",
        "        return image, label\n",
        "\n",
        "# Get all images paths\n",
        "all_labelled_examples = list(paths.list_images(\"dataset/train\"))\n",
        "# Split the examples, so that we can have 80% for training and 20% for validation\n",
        "train_examples, test_examples = split_by_percentage(all_labelled_examples, 0.2)\n",
        "print(f\"Number of train examples: {len(train_examples)}, number of test examples: {len(test_examples)}\")\n",
        "\n",
        "# Create a dataset and a dataloader for train examples\n",
        "galaxy_train_dataset = GalaxyDataset(images=train_examples, transform=transform)\n",
        "galaxy_train_dataloader = torch.utils.data.DataLoader(galaxy_train_dataset, batch_size=BATCH_SIZE, shuffle=True, num_workers=2)\n",
        "\n",
        "# Create a dataset and a dataloader for test examples\n",
        "galaxy_test_dataset = GalaxyDataset(images=test_examples, transform=transform)\n",
        "galaxy_test_dataloader = torch.utils.data.DataLoader(galaxy_test_dataset, batch_size=BATCH_SIZE, shuffle=True, num_workers=2)"
      ],
      "execution_count": null,
      "outputs": [
        {
          "output_type": "stream",
          "text": [
            "Number of train examples: 9932, number of test examples: 2483\n"
          ],
          "name": "stdout"
        }
      ]
    },
    {
      "cell_type": "markdown",
      "metadata": {
        "id": "0uJFYzjmiD0u"
      },
      "source": [
        "### Show data info, with complete example\n",
        "\n",
        "We are showing:\n",
        "- Batch features shape\n",
        "- Batch labels shape\n",
        "- A sample galaxy with its corresponding label"
      ]
    },
    {
      "cell_type": "code",
      "metadata": {
        "id": "OEdUbZrQiEe7",
        "colab": {
          "base_uri": "https://localhost:8080/",
          "height": 337
        },
        "outputId": "43aa7cd4-e5e0-4c0d-9667-12f56e67b231"
      },
      "source": [
        "import matplotlib.pyplot as plt\n",
        "from PIL import Image\n",
        "\n",
        "# Get a batch of features and labels\n",
        "train_features, train_labels = next(iter(galaxy_train_dataloader))\n",
        "\n",
        "# Print the shape of the data\n",
        "print(f\"Feature batch shape: {train_features.size()}\")\n",
        "print(f\"Labels batch shape: {train_labels.size()}\")\n",
        "\n",
        "# Permute the image dimension to make plt understand it\n",
        "img = train_features[0].permute(1, 2, 0).squeeze()\n",
        "\n",
        "# Show a sample image with its corresponding label\n",
        "label = train_labels[0]\n",
        "plt.imshow(img)\n",
        "plt.show()\n",
        "print(f\"Label: {label} - {IDX_TO_LABELS[label.item()]}\")"
      ],
      "execution_count": null,
      "outputs": [
        {
          "output_type": "stream",
          "text": [
            "Clipping input data to the valid range for imshow with RGB data ([0..1] for floats or [0..255] for integers).\n"
          ],
          "name": "stderr"
        },
        {
          "output_type": "stream",
          "text": [
            "Feature batch shape: torch.Size([64, 3, 224, 224])\n",
            "Labels batch shape: torch.Size([64])\n"
          ],
          "name": "stdout"
        },
        {
          "output_type": "display_data",
          "data": {
            "image/png": "[encoded data removed]",
            "text/plain": [
              "<Figure size 432x288 with 1 Axes>"
            ]
          },
          "metadata": {
            "tags": [],
            "needs_background": "light"
          }
        },
        {
          "output_type": "stream",
          "text": [
            "Label: 5 - Barred Spiral\n"
          ],
          "name": "stdout"
        }
      ]
    },
    {
      "cell_type": "markdown",
      "metadata": {
        "id": "25qOCOqXiHgF"
      },
      "source": [
        "### Define pre-trained ResNet18 model and extract features"
      ]
    },
    {
      "cell_type": "code",
      "metadata": {
        "id": "q738LyeAiKwL",
        "colab": {
          "base_uri": "https://localhost:8080/"
        },
        "outputId": "25ada3d0-d534-42cf-de5c-e90216322593"
      },
      "source": [
        "import torchvision.models as models\n",
        "import torch.nn as nn\n",
        "from tqdm import tqdm\n",
        "\n",
        "# extract_features extract some features given a pre-trained model\n",
        "def extract_features(model, dataloader, return_labels=False):\n",
        "  res_features, res_ys = [], []\n",
        "  with torch.no_grad():\n",
        "    for batch in tqdm(dataloader):\n",
        "        # Get images and labels from the batch and put them into the DEVICE\n",
        "        images, ys = batch\n",
        "        images = images.to(DEVICE)\n",
        "        if return_labels:\n",
        "          ys = ys.to(DEVICE)\n",
        "\n",
        "        # Get the output from the neural network\n",
        "        outputs = model(images)\n",
        "        features_to_append = []\n",
        "        ys_to_append = []\n",
        "\n",
        "        for i in range(len(outputs)):\n",
        "          features_to_append.append(outputs[i].cpu().detach().numpy().reshape(-1))\n",
        "        if return_labels:\n",
        "          for i in range(len(ys)):\n",
        "            ys_to_append.append(ys[i].item())\n",
        "        else:\n",
        "          for i in range(len(ys)):\n",
        "            ys_to_append.append(ys[i])\n",
        "\n",
        "        res_features.extend(features_to_append)\n",
        "        res_ys.extend(ys_to_append)\n",
        "  return res_features, res_ys\n",
        "\n",
        "class Identity(nn.Module):\n",
        "    def __init__(self):\n",
        "        super(Identity, self).__init__()\n",
        "        \n",
        "    def forward(self, x):\n",
        "        return x\n",
        "  \n",
        "# Setup model\n",
        "pretrained_model = models.resnet18(pretrained=True)\n",
        "# Remove the last layer setting it to Identity\n",
        "pretrained_model.fc = Identity()\n",
        "\n",
        "# Put the model into our device\n",
        "pretrained_model.to(DEVICE)\n",
        "\n",
        "features, labels = extract_features(pretrained_model, galaxy_train_dataloader, True)\n",
        "test_features, test_labels = extract_features(pretrained_model, galaxy_test_dataloader, True)"
      ],
      "execution_count": null,
      "outputs": [
        {
          "output_type": "stream",
          "text": [
            "100%|██████████| 156/156 [00:38<00:00,  4.01it/s]\n",
            "100%|██████████| 39/39 [00:09<00:00,  4.00it/s]\n"
          ],
          "name": "stderr"
        }
      ]
    },
    {
      "cell_type": "markdown",
      "metadata": {
        "id": "JCUMoKuiiMLZ"
      },
      "source": [
        "### K-NN"
      ]
    },
    {
      "cell_type": "code",
      "metadata": {
        "id": "0jRwJelRiNvI",
        "colab": {
          "base_uri": "https://localhost:8080/"
        },
        "outputId": "6405534a-ebc6-49aa-dced-9e62330cf1a3"
      },
      "source": [
        "from sklearn import neighbors\n",
        "\n",
        "print(\"K-NN with pre-trained model as feature extractor\")\n",
        "knn_model = neighbors.KNeighborsClassifier(n_jobs=-1)\n",
        "\n",
        "knn_model.fit(features, labels)\n",
        "\n",
        "res = knn_model.score(test_features, test_labels)\n",
        "print(\"Score: {:.2f}%\".format(res * 100))"
      ],
      "execution_count": null,
      "outputs": [
        {
          "output_type": "stream",
          "text": [
            "K-NN with pre-trained model as feature extractor\n",
            "Score: 34.03%\n"
          ],
          "name": "stdout"
        }
      ]
    },
    {
      "cell_type": "markdown",
      "metadata": {
        "id": "pXRxoIBmiRVe"
      },
      "source": [
        "### Random Forests"
      ]
    },
    {
      "cell_type": "code",
      "metadata": {
        "id": "DlcOETS3iS5r",
        "colab": {
          "base_uri": "https://localhost:8080/"
        },
        "outputId": "ab9dd084-7e1e-4632-ec57-f2c737003e43"
      },
      "source": [
        "from sklearn import ensemble\n",
        "\n",
        "print(\"Random Forests with pre-trained model as feature extractor\")\n",
        "rf_model = ensemble.RandomForestClassifier()\n",
        "\n",
        "rf_model.fit(features, labels)\n",
        "\n",
        "res = rf_model.score(test_features, test_labels)\n",
        "print(\"Score: {:.2f}%\".format(res * 100))"
      ],
      "execution_count": null,
      "outputs": [
        {
          "output_type": "stream",
          "text": [
            "Random Forests with pre-trained model as feature extractor\n",
            "Score: 38.99%\n"
          ],
          "name": "stdout"
        }
      ]
    },
    {
      "cell_type": "markdown",
      "metadata": {
        "id": "NA2_fJu0iX02"
      },
      "source": [
        "### SVM"
      ]
    },
    {
      "cell_type": "code",
      "metadata": {
        "id": "Tm5VpzmciYo8",
        "colab": {
          "base_uri": "https://localhost:8080/"
        },
        "outputId": "11774e90-1df1-4c6a-e23a-21d28b5ea935"
      },
      "source": [
        "from sklearn import svm\n",
        "\n",
        "print(\"SVM with pre-trained model as feature extractor\")\n",
        "svm_model = svm.SVC()\n",
        "\n",
        "svm_model.fit(features, labels)\n",
        "\n",
        "res = svm_model.score(test_features, test_labels)\n",
        "print(\"Score: {:.2f}%\".format(res * 100))"
      ],
      "execution_count": null,
      "outputs": [
        {
          "output_type": "stream",
          "text": [
            "SVM with pre-trained model as feature extractor\n",
            "Score: 48.25%\n"
          ],
          "name": "stdout"
        }
      ]
    },
    {
      "cell_type": "markdown",
      "metadata": {
        "id": "uGeXtEKYZB6U"
      },
      "source": [
        "# Neural networks\n",
        "\n",
        "We are using the following NNs:\n",
        "- **ResNet18**\n",
        "- **ResNet50**\n",
        "\n",
        "\n",
        "Some details:\n",
        "- Epochs: 200\n",
        "- Optimizer: **Adam** with initial learning rate set to 0.001\n",
        "- Scheduler: **LinearWarmupCosineAnnealing** with 50 warmup epochs\n",
        "- Loss Function: **CrossEntropyLoss**\n"
      ]
    },
    {
      "cell_type": "markdown",
      "metadata": {
        "id": "MuwwRcvXj-Zu"
      },
      "source": [
        "## Define train and test functions + some utils"
      ]
    },
    {
      "cell_type": "code",
      "metadata": {
        "id": "WYx0sfMjkEOB"
      },
      "source": [
        "# train trains the input neural network using a given dataloader and a given number of epochs\n",
        "def train(net, epochs, trainDataloader, valDataloader, optimizer, scheduler, tblog=None):\n",
        "  loss_function = nn.CrossEntropyLoss()\n",
        "  metric_tracker = ClassificationMetrics(10)\n",
        "\n",
        "  for epoch in range(epochs):\n",
        "    # Set model to training mode\n",
        "    net.train()\n",
        "    # Clear the metric tracker\n",
        "    metric_tracker.clear()\n",
        "\n",
        "    print(f\"-- EPOCH {epoch+1}/{epochs} -------------------------\\n\")\n",
        "\n",
        "    # Iterate through trainDataloader and train the model\n",
        "    i = 0\n",
        "    for batch in tqdm(trainDataloader):\n",
        "      # Get images and labels from the batch and put them into the DEVICE\n",
        "      images, labels = batch\n",
        "      images, labels = images.to(DEVICE), labels.to(DEVICE)\n",
        "\n",
        "      # Set gradients to zero before backpropagation\n",
        "      net.zero_grad()\n",
        "\n",
        "      # Get the output from the neural network\n",
        "      outputs = net(images)\n",
        "      outputs.to(DEVICE)\n",
        "\n",
        "      # Calculate the loss function\n",
        "      loss = loss_function(outputs, labels)\n",
        "\n",
        "      # The index of the largest output along the second dimension gives the predicted class label\n",
        "      y = outputs.argmax(-1)\n",
        "      y = y.to(DEVICE)\n",
        "\n",
        "      # Track evaluation metrics\n",
        "      metric_tracker.add(y, labels)\n",
        "\n",
        "      # If a tensorboard summary writer is available we track the loss value\n",
        "      # and the metrics of each iteration\n",
        "      if tblog:\n",
        "        tblog.add_scalar('train/loss', loss.item(), epoch*len(trainDataloader)+i)\n",
        "\n",
        "      # Perform the backward pass to compute gradients\n",
        "      loss.backward()\n",
        "      # Update the parameters\n",
        "      optimizer.step()\n",
        "      i += 1\n",
        "\n",
        "    # Print metrics accumulated over the epoch\n",
        "    print(\"\\tTRAIN | acc: {:.4f} | mAcc: {:.4f} | mIoU: {:.4f}\".format(\n",
        "        metric_tracker.acc(), metric_tracker.mAcc(), metric_tracker.mIoU()\n",
        "    ))\n",
        "\n",
        "    # Track the metrics in the tensorboard log\n",
        "    if tblog:\n",
        "      tblog.add_scalar('train/acc', metric_tracker.acc(), epoch)\n",
        "      tblog.add_scalar('train/mAcc', metric_tracker.mAcc(), epoch)\n",
        "      tblog.add_scalar('train/mIoU', metric_tracker.mIoU(), epoch)\n",
        "      tblog.add_scalar('train/lr', scheduler.get_last_lr()[0], epoch)\n",
        "    \n",
        "    # Evaluate the current model\n",
        "    validate(net, metric_tracker, valDataloader)\n",
        "\n",
        "    # Print metrics over the validation set\n",
        "    print(\"\\tEVAL  | acc: {:.4f} | mAcc: {:.4f} | mIoU: {:.4f}\\n\".format(\n",
        "        metric_tracker.acc(), \n",
        "        metric_tracker.mAcc(), metric_tracker.mIoU()\n",
        "    ))\n",
        "\n",
        "    # Track the metrics in the tensorboard log\n",
        "    if tblog:\n",
        "      tblog.add_scalar('val/acc', metric_tracker.acc(), epoch)\n",
        "      tblog.add_scalar('val/mAcc', metric_tracker.mAcc(), epoch)\n",
        "      tblog.add_scalar('val/mIoU', metric_tracker.mIoU(), epoch)\n",
        "\n",
        "    scheduler.step()\n",
        "\n",
        "def validate(net, metric_tracker, dataloader):\n",
        "  net.eval()\n",
        "  metric_tracker.clear()\n",
        "\n",
        "  with torch.no_grad():\n",
        "    for batch in tqdm(dataloader):\n",
        "      images, labels = batch\n",
        "      images, labels = images.to(DEVICE), labels.to(DEVICE)\n",
        "\n",
        "      outputs = net(images)\n",
        "      outputs = outputs.to(DEVICE)\n",
        "      y = outputs.argmax(-1)\n",
        "      y = y.to(DEVICE)\n",
        "      metric_tracker.add(y, labels)\n",
        "\n",
        "def test(model, dataloader):\n",
        "  # We create the performance metric tracker\n",
        "  metric_tracker = ClassificationMetrics(10)\n",
        "\n",
        "  # We run the validation code con the test data and track the performance\n",
        "  validate(model,metric_tracker, dataloader)\n",
        "\n",
        "  # Print metrics over the test set\n",
        "  print(\"TEST  | acc: {:.4f} | mAcc: {:.4f} | mIoU: {:.4f}\\n\".format(\n",
        "      metric_tracker.acc(), \n",
        "      metric_tracker.mAcc(), metric_tracker.mIoU()\n",
        "  ))\n",
        "\n",
        "  return metric_tracker"
      ],
      "execution_count": null,
      "outputs": []
    },
    {
      "cell_type": "code",
      "metadata": {
        "id": "d1MemVtWkJOg"
      },
      "source": [
        "def write_results_to_csv(net, dataloader):\n",
        "  # Open tmp csv file with results\n",
        "  csv_file = open(\"results_tmp.csv\", \"w\")\n",
        "  writer = csv.writer(csv_file)\n",
        "\n",
        "  # Get outputs from net\n",
        "  with torch.no_grad():\n",
        "    for batch in tqdm(dataloader):\n",
        "      images, names = batch\n",
        "      images = images.to(DEVICE)\n",
        "\n",
        "      net_out = net(images)\n",
        "      for i in range(len(names)):\n",
        "        writer.writerow([names[i], IDX_TO_LABELS[torch.argmax(net_out[i]).item()]])\n",
        "  csv_file.close()\n",
        "\n",
        "  # Read the created csv\n",
        "  reader = csv.reader(open(\"results_tmp.csv\"), delimiter=\",\")\n",
        "\n",
        "  # Sort the csv into a sorted_list\n",
        "  sorted_list = sorted(reader, key=lambda row: int(row[0]), reverse=False)\n",
        "\n",
        "  # Save the sorted csv in results.csv\n",
        "  sorted_csv = open(\"results.csv\", \"w\")\n",
        "  sorted_writer = csv.writer(sorted_csv)\n",
        "  for entry in sorted_list:\n",
        "    sorted_writer.writerow(entry)\n",
        "  sorted_csv.close()\n",
        "\n",
        "  # Download the csv\n",
        "  files.download('results.csv')\n",
        "\n",
        "def write_sklearn_results_to_csv(model, features, names):\n",
        "  # Open tmp csv file with results\n",
        "  csv_file = open(\"results_tmp.csv\", \"w\")\n",
        "  writer = csv.writer(csv_file)\n",
        "\n",
        "  # Get outputs from model\n",
        "  for i in range(len(features)):\n",
        "    model_out = model.predict(features[i].reshape(1, -1))\n",
        "    writer.writerow([names[i], IDX_TO_LABELS[model_out[0]]])\n",
        "  csv_file.close()\n",
        "\n",
        "  # Read the created csv\n",
        "  reader = csv.reader(open(\"results_tmp.csv\"), delimiter=\",\")\n",
        "\n",
        "  # Sort the csv into a sorted_list\n",
        "  sorted_list = sorted(reader, key=lambda row: int(row[0]), reverse=False)\n",
        "\n",
        "  # Save the sorted csv in results.csv\n",
        "  sorted_csv = open(\"results.csv\", \"w\")\n",
        "  sorted_writer = csv.writer(sorted_csv)\n",
        "  for entry in sorted_list:\n",
        "    sorted_writer.writerow(entry)\n",
        "  sorted_csv.close()\n",
        "\n",
        "  # Download the csv\n",
        "  files.download('results.csv')\n",
        "\n",
        "# split_by_percentage splits the examples given a certain percentage, shuffling all_examples\n",
        "def split_by_percentage(all_examples, percentage):\n",
        "    how_many_examples_first_part = int(round(percentage*len(all_examples)))\n",
        "    shuffled = all_examples[:]\n",
        "    random.shuffle(shuffled)\n",
        "    return shuffled[how_many_examples_first_part:], shuffled[:how_many_examples_first_part]\n",
        "\n",
        "# extract_features extract some features given a pre-trained model\n",
        "def extract_features(model, dataloader, return_labels=False):\n",
        "  res_features, res_ys = [], []\n",
        "  with torch.no_grad():\n",
        "    for batch in tqdm(dataloader):\n",
        "        # Get images and labels from the batch and put them into the DEVICE\n",
        "        images, ys = batch\n",
        "        images = images.to(DEVICE)\n",
        "        if return_labels:\n",
        "          ys = ys.to(DEVICE)\n",
        "\n",
        "        # Get the output from the neural network\n",
        "        outputs = model(images)\n",
        "        features_to_append = []\n",
        "        ys_to_append = []\n",
        "\n",
        "        for i in range(len(outputs)):\n",
        "          features_to_append.append(outputs[i].cpu().detach().numpy().reshape(-1))\n",
        "        if return_labels:\n",
        "          for i in range(len(ys)):\n",
        "            ys_to_append.append(ys[i].item())\n",
        "        else:\n",
        "          for i in range(len(ys)):\n",
        "            ys_to_append.append(ys[i])\n",
        "\n",
        "        res_features.extend(features_to_append)\n",
        "        res_ys.extend(ys_to_append)\n",
        "  return res_features, res_ys\n",
        "\n",
        "def run_experiment(name, model, epochs, trainDataloader, valDataloader):\n",
        "  optimizer = optim.Adam(model.parameters(), lr=0.001)\n",
        "  scheduler = LinearWarmupCosineAnnealingLR(optimizer, warmup_epochs=round(epochs/4), max_epochs=epochs)\n",
        "  # We create the tensorboard logger\n",
        "  tblog=tb.SummaryWriter(f\"exps/{name}\")\n",
        "  print(f\"TRAINING: exps/{name}\")\n",
        "  # We train our model\n",
        "  train(model, epochs, trainDataloader, valDataloader, optimizer, scheduler, tblog=tblog)"
      ],
      "execution_count": null,
      "outputs": []
    },
    {
      "cell_type": "markdown",
      "metadata": {
        "id": "PadHtpeWjR0z"
      },
      "source": [
        "## Define a custom dataset"
      ]
    },
    {
      "cell_type": "code",
      "metadata": {
        "id": "mMaxuJmVjVPk"
      },
      "source": [
        "from torch.utils.data import Dataset, DataLoader\n",
        "import pandas as pn\n",
        "\n",
        "# GalaxyDataset implements a torch Dataset, defining the __init__, the __len__ and the __getitem__ functions\n",
        "class GalaxyDataset(Dataset):\n",
        "    # Put all input images inside a pandas.DataFrame, set the transformation if given\n",
        "    def __init__(self, images, transform=None, is_result=False):\n",
        "        self.is_result = is_result\n",
        "        if is_result:\n",
        "          self.paths = pn.DataFrame([[i, i.split(\"/\")[2].split(\".\")[0]] for i in images])\n",
        "        else:\n",
        "          self.paths = pn.DataFrame([[i, LABELS_TO_IDX[i.split(\"/\")[2]]] for i in images])\n",
        "        self.transform = transform\n",
        "\n",
        "    def __len__(self):\n",
        "        return len(self.paths)\n",
        "\n",
        "    # Open the images only in the __getitem__, so that we can have all their features one batch at a time\n",
        "    def __getitem__(self, idx):\n",
        "        if torch.is_tensor(idx):\n",
        "            idx = idx.tolist()\n",
        "        # Get the images names from self.paths\n",
        "        img_name = self.paths.iloc[idx, 0]\n",
        "        # Open the images and get their labels\n",
        "        image = Image.open(img_name)\n",
        "        label = self.paths.iloc[idx, 1]\n",
        "        # Apply a transformation if specified\n",
        "        if self.transform:\n",
        "          image = self.transform(image)\n",
        "        # Return a labelled example\n",
        "        return image, label"
      ],
      "execution_count": null,
      "outputs": []
    },
    {
      "cell_type": "markdown",
      "metadata": {
        "id": "JhgxliQ8jZL9"
      },
      "source": [
        "## Split train and validation data"
      ]
    },
    {
      "cell_type": "code",
      "metadata": {
        "id": "dYymyCI5jbbD",
        "colab": {
          "base_uri": "https://localhost:8080/"
        },
        "outputId": "58775088-a830-42ea-b671-ec933bdd4213"
      },
      "source": [
        "from imutils import paths\n",
        "import numpy as np\n",
        "import os\n",
        "\n",
        "all_examples = []\n",
        "all_train_examples = []\n",
        "all_val_examples = []\n",
        "classes_counts = []\n",
        "\n",
        "# Base path for our images\n",
        "base_path = os.path.join(\"dataset\", \"train\")\n",
        "\n",
        "# All possible classes\n",
        "classes = list(os.listdir(base_path))\n",
        "\n",
        "# Get all examples divided by class\n",
        "for galaxy_class in classes:\n",
        "  class_path = os.path.join(base_path, galaxy_class)\n",
        "  print(f\"Found class path: {class_path}\")\n",
        "  to_append = list(paths.list_images(class_path))\n",
        "  classes_counts.append(len(to_append))\n",
        "  all_examples.append(to_append)\n",
        "\n",
        "# Split validation and training data\n",
        "for class_examples in all_examples:\n",
        "  if len(class_examples) > 500:\n",
        "    all_val_examples.append(class_examples[-round(len(class_examples)/100*20):])\n",
        "    all_train_examples.append(class_examples[:round(len(class_examples)/100*80)])\n",
        "  else:\n",
        "    all_val_examples.append(class_examples[-round(len(class_examples)/100*10):])\n",
        "    all_train_examples.append(class_examples[:round(len(class_examples)/100*90)])\n",
        "\n",
        "# Get all images paths\n",
        "all_train_examples = np.concatenate(all_train_examples, axis=0)\n",
        "all_val_examples = np.concatenate(all_val_examples, axis=0)\n",
        "\n",
        "print(f\"\\nNumber of train examples: {len(all_train_examples)}\")\n",
        "print(f\"Number of validation examples: {len(all_val_examples)}\")"
      ],
      "execution_count": null,
      "outputs": [
        {
          "output_type": "stream",
          "text": [
            "Found class path: dataset/train/Unbarred Loose Spiral\n",
            "Found class path: dataset/train/In-between Round Smooth\n",
            "Found class path: dataset/train/Round Smooth\n",
            "Found class path: dataset/train/Barred Spiral\n",
            "Found class path: dataset/train/Merging\n",
            "Found class path: dataset/train/Edge-on with Bulge\n",
            "Found class path: dataset/train/Unbarred Tight Spiral\n",
            "Found class path: dataset/train/Edge-on without Bulge\n",
            "Found class path: dataset/train/Cigar Shaped Smooth\n",
            "Found class path: dataset/train/Disturbed\n",
            "\n",
            "Number of train examples: 9957\n",
            "Number of validation examples: 2458\n"
          ],
          "name": "stdout"
        }
      ]
    },
    {
      "cell_type": "markdown",
      "metadata": {
        "id": "ZXJMiFYLjdN0"
      },
      "source": [
        "## Create datasets and dataloaders"
      ]
    },
    {
      "cell_type": "code",
      "metadata": {
        "id": "6obal8rcjfvS"
      },
      "source": [
        "import torchvision\n",
        "from torchvision import transforms\n",
        "\n",
        "# Let's define the batch size for our neural network\n",
        "BATCH_SIZE = 128\n",
        "\n",
        "# Transforms\n",
        "mean = np.array([0.485, 0.456, 0.406])\n",
        "std = np.array([0.229, 0.224, 0.225])\n",
        "transform = {\n",
        "    'train': transforms.RandomChoice([\n",
        "      transforms.Compose([\n",
        "        transforms.RandomCrop((224, 224)),\n",
        "        transforms.RandomRotation(degrees=90),\n",
        "        transforms.RandomAffine(degrees=180),\n",
        "        transforms.RandomPerspective(distortion_scale=0.2, p=0.2),\n",
        "        transforms.RandomHorizontalFlip(p=0.4),\n",
        "        transforms.RandomVerticalFlip(p=0.4),\n",
        "        transforms.RandomGrayscale(p=0.1),\n",
        "        transforms.ToTensor(),\n",
        "        transforms.Normalize(mean, std)\n",
        "      ]),\n",
        "      transforms.Compose([\n",
        "        transforms.CenterCrop((224, 224)),\n",
        "        transforms.RandomRotation(degrees=270),\n",
        "        transforms.RandomAffine(degrees=90),\n",
        "        transforms.RandomPerspective(distortion_scale=0.4, p=0.1),\n",
        "        transforms.RandomHorizontalFlip(p=0.2),\n",
        "        transforms.RandomVerticalFlip(p=0.2),\n",
        "        transforms.GaussianBlur(9),\n",
        "        transforms.ToTensor(),\n",
        "        transforms.Normalize(mean, std)\n",
        "      ]),\n",
        "      transforms.Compose([\n",
        "        transforms.RandomCrop((224, 224)),\n",
        "        transforms.RandomRotation(degrees=180),\n",
        "        transforms.RandomAffine(degrees=270),\n",
        "        transforms.RandomPerspective(distortion_scale=0.1, p=0.3),\n",
        "        transforms.RandomHorizontalFlip(p=0.3),\n",
        "        transforms.RandomVerticalFlip(p=0.3),\n",
        "        transforms.ColorJitter(brightness=0.1, contrast=0.1, saturation=0.1, hue=0.1),\n",
        "        transforms.ToTensor(),\n",
        "        transforms.Normalize(mean, std)\n",
        "      ])\n",
        "    ]),\n",
        "    'val': transforms.Compose([\n",
        "      transforms.CenterCrop((224, 224)),\n",
        "      transforms.ToTensor(),\n",
        "      transforms.Normalize(mean, std)\n",
        "    ])\n",
        "}\n",
        "\n",
        "galaxy_train_dataset = GalaxyDataset(images=all_train_examples, transform=transform['train'])\n",
        "galaxy_val_dataset = GalaxyDataset(images=all_val_examples, transform=transform['val'])\n",
        "\n",
        "# Define the weights of each class as the inverse of the class counts\n",
        "weights = 1. / torch.tensor(classes_counts, dtype=torch.float)\n",
        "# Get the weight of each sample\n",
        "samples_weights = weights[galaxy_train_dataset.paths.iloc[:, 1]]\n",
        "# Define a sampler based on the weights just defined\n",
        "sampler = torch.utils.data.WeightedRandomSampler(\n",
        "    weights=samples_weights,\n",
        "    num_samples=len(samples_weights),\n",
        "    replacement=True\n",
        ")\n",
        "\n",
        "# Train dataloader, with a sampler\n",
        "loader_train = torch.utils.data.DataLoader(galaxy_train_dataset, batch_size=BATCH_SIZE, sampler=sampler, num_workers=2, pin_memory=True, drop_last=False)\n",
        "# Validation dataloader, we don't need the sampler\n",
        "loader_val = torch.utils.data.DataLoader(galaxy_val_dataset, batch_size=BATCH_SIZE, shuffle=True, num_workers=2, pin_memory=True, drop_last=False)"
      ],
      "execution_count": null,
      "outputs": []
    },
    {
      "cell_type": "markdown",
      "metadata": {
        "id": "OtpxeNdmjhp0"
      },
      "source": [
        "## Show some info about our data"
      ]
    },
    {
      "cell_type": "code",
      "metadata": {
        "id": "j4psUlYCjkFa",
        "colab": {
          "base_uri": "https://localhost:8080/",
          "height": 338
        },
        "outputId": "250851d9-4914-4d5f-e9f0-ddedfbc0d645"
      },
      "source": [
        "import matplotlib.pyplot as plt\n",
        "from PIL import Image\n",
        "\n",
        "# Get a batch of features and labels\n",
        "train_features, train_labels = next(iter(loader_train))\n",
        "\n",
        "# Print the shape of the data\n",
        "print(f\"Feature batch shape: {train_features.size()}\")\n",
        "print(f\"Labels batch shape: {train_labels.size()}\")\n",
        "\n",
        "# Permute the image dimension to make plt understand it\n",
        "img = train_features[0].permute(1, 2, 0).squeeze()\n",
        "\n",
        "# Show a sample image with its corresponding label\n",
        "label = train_labels[0]\n",
        "plt.imshow(img)\n",
        "plt.show()\n",
        "print(f\"Label: {label} - {IDX_TO_LABELS[label.item()]}\")"
      ],
      "execution_count": null,
      "outputs": [
        {
          "output_type": "stream",
          "text": [
            "Clipping input data to the valid range for imshow with RGB data ([0..1] for floats or [0..255] for integers).\n"
          ],
          "name": "stderr"
        },
        {
          "output_type": "stream",
          "text": [
            "Feature batch shape: torch.Size([128, 3, 224, 224])\n",
            "Labels batch shape: torch.Size([128])\n"
          ],
          "name": "stdout"
        },
        {
          "output_type": "display_data",
          "data": {
            "text/plain": [
              "<Figure size 432x288 with 1 Axes>"
            ],
            "image/png": "[encoded data removed]"
          },
          "metadata": {
            "tags": [],
            "needs_background": "light"
          }
        },
        {
          "output_type": "stream",
          "text": [
            "Label: 5 - Barred Spiral\n"
          ],
          "name": "stdout"
        }
      ]
    },
    {
      "cell_type": "markdown",
      "metadata": {
        "id": "BNQ8uLnAjls2"
      },
      "source": [
        "## ResNet18"
      ]
    },
    {
      "cell_type": "code",
      "metadata": {
        "id": "Z1hg98W0jm_M"
      },
      "source": [
        "from pl_bolts.optimizers.lr_scheduler import LinearWarmupCosineAnnealingLR\n",
        "import torch.utils.tensorboard as tb\n",
        "import torchvision.models as models\n",
        "import torch.optim as optim\n",
        "from tqdm import tqdm\n",
        "import torch.nn as nn\n",
        "\n",
        "print(\"RESNET18\\n\")\n",
        "\n",
        "# Set number of epochs for resnet18\n",
        "EPOCHS = 200\n",
        "\n",
        "print(f\"Working with {DEVICE}\")\n",
        "print(f\"Number of EPOCHS: {EPOCHS}\")\n",
        "\n",
        "print(\"\\nCreating Model...\\n\")\n",
        "resnet18 = models.resnet18(pretrained=True)\n",
        "resnet18.fc = nn.Linear(512, 10) # 10 output classes instead of 1000\n",
        "resnet18.to(DEVICE)\n",
        "\n",
        "run_experiment(\"Resnet18-aug\", resnet18, EPOCHS, loader_train, loader_val)"
      ],
      "execution_count": null,
      "outputs": []
    },
    {
      "cell_type": "markdown",
      "metadata": {
        "id": "8rTyqpTMjoRg"
      },
      "source": [
        "## ResNet50"
      ]
    },
    {
      "cell_type": "code",
      "metadata": {
        "id": "ecwfdsCtjpcR"
      },
      "source": [
        "from pl_bolts.optimizers.lr_scheduler import LinearWarmupCosineAnnealingLR\n",
        "import torchvision.models as models\n",
        "import torch.optim as optim\n",
        "import torch.nn as nn\n",
        "\n",
        "print(\"RESNET50\\n\")\n",
        "\n",
        "# Set number of epochs for resnet50\n",
        "EPOCHS = 200\n",
        "\n",
        "print(f\"Working with {DEVICE}\")\n",
        "print(f\"Number of EPOCHS: {EPOCHS}\")\n",
        "\n",
        "print(\"\\nCreating Model...\\n\")\n",
        "resnet50 = models.resnet50(pretrained=True)\n",
        "resnet50.fc = nn.Linear(2048, 10) # 10 output classes instead of 1000\n",
        "resnet50.to(DEVICE)\n",
        "\n",
        "run_experiment(\"resnet50-aug\", resnet50, EPOCHS, loader_train, loader_val)"
      ],
      "execution_count": null,
      "outputs": []
    },
    {
      "cell_type": "markdown",
      "metadata": {
        "id": "D_iCTSsZjs6S"
      },
      "source": [
        "## Write results"
      ]
    },
    {
      "cell_type": "code",
      "metadata": {
        "id": "PpzDDSR9juGU"
      },
      "source": [
        "all_test_examples = list(paths.list_images(\"dataset/test\"))\n",
        "galaxy_results_dataset = GalaxyDataset(images=all_test_examples, transform=transform['val'], is_result=True)\n",
        "galaxy_results_dataloader = torch.utils.data.DataLoader(galaxy_results_dataset, batch_size=BATCH_SIZE, shuffle=False, num_workers=2)\n",
        "\n",
        "write_results_to_csv(resnet18, galaxy_results_dataloader)\n",
        "write_results_to_csv(resnet50, galaxy_results_dataloader)"
      ],
      "execution_count": null,
      "outputs": []
    },
    {
      "cell_type": "markdown",
      "metadata": {
        "id": "waXLU-ZejwKF"
      },
      "source": [
        "## Open Tensorboard"
      ]
    },
    {
      "cell_type": "code",
      "metadata": {
        "id": "QvZOUHBpjvi3"
      },
      "source": [
        "%tensorboard --logdir exps/"
      ],
      "execution_count": null,
      "outputs": []
    },
    {
      "cell_type": "markdown",
      "metadata": {
        "id": "Jxf9HFgtXT_L"
      },
      "source": [
        "# Extra - K-NN, Random Forests and SVM with our NN as FE\n",
        "\n",
        "After having trained our ResNet18 model, we use it as a feature extractor, and we check the accuracy we get using shallow methods.\n",
        "\n",
        "The accuracies we see below are obtained using a ResNet18 model as feature extractor trained for 100 epochs, with the hyperparameters specified above."
      ]
    },
    {
      "cell_type": "markdown",
      "metadata": {
        "id": "oZo3ySEOXepT"
      },
      "source": [
        "## Remove the last FC layer from our NN"
      ]
    },
    {
      "cell_type": "code",
      "metadata": {
        "colab": {
          "base_uri": "https://localhost:8080/"
        },
        "id": "s0bD9WJDXdRO",
        "outputId": "13f777b1-7a51-4b8c-fb41-3fc127e769f4"
      },
      "source": [
        "class Identity(nn.Module):\n",
        "    def __init__(self):\n",
        "        super(Identity, self).__init__()\n",
        "        \n",
        "    def forward(self, x):\n",
        "        return x\n",
        "\n",
        "# We will use our trained resnet18 model\n",
        "resnet18.fc = Identity()\n",
        "\n",
        "# Extract features\n",
        "features, labels = extract_features(resnet18, loader_train, True)\n",
        "test_features, test_labels = extract_features(resnet18, loader_val, True)"
      ],
      "execution_count": null,
      "outputs": [
        {
          "output_type": "stream",
          "text": [
            "100%|██████████| 78/78 [00:43<00:00,  1.81it/s]\n",
            "100%|██████████| 20/20 [00:05<00:00,  3.88it/s]\n"
          ],
          "name": "stderr"
        }
      ]
    },
    {
      "cell_type": "markdown",
      "metadata": {
        "id": "xdLune6SXlz3"
      },
      "source": [
        "## K-NN"
      ]
    },
    {
      "cell_type": "code",
      "metadata": {
        "colab": {
          "base_uri": "https://localhost:8080/"
        },
        "id": "CCvOpk3WXnCh",
        "outputId": "9e1e2e2b-a501-4514-8b85-638642529a51"
      },
      "source": [
        "from sklearn import neighbors\n",
        "\n",
        "print(\"KNN\")\n",
        "knn_model = neighbors.KNeighborsClassifier(n_jobs=-1)\n",
        "\n",
        "knn_model.fit(features, labels)\n",
        "\n",
        "res = knn_model.score(test_features, test_labels)\n",
        "print(\"Score: {:.2f}%\".format(res * 100)) # 84%, 10s"
      ],
      "execution_count": null,
      "outputs": [
        {
          "output_type": "stream",
          "text": [
            "KNN\n",
            "Score: 82.14%\n"
          ],
          "name": "stdout"
        }
      ]
    },
    {
      "cell_type": "markdown",
      "metadata": {
        "id": "CGb7iba0XqCS"
      },
      "source": [
        "## Random Forests"
      ]
    },
    {
      "cell_type": "code",
      "metadata": {
        "colab": {
          "base_uri": "https://localhost:8080/"
        },
        "id": "WAWm_KHpXrS8",
        "outputId": "eca380a2-1d3f-40ff-9926-cc7f7e89025f"
      },
      "source": [
        "from sklearn import ensemble\n",
        "\n",
        "print(\"Random Forests\")\n",
        "rf_model = ensemble.RandomForestClassifier()\n",
        "\n",
        "rf_model.fit(features, labels)\n",
        "\n",
        "res = rf_model.score(test_features, test_labels)\n",
        "print(\"Score: {:.2f}%\".format(res * 100)) # 84%, 30s"
      ],
      "execution_count": null,
      "outputs": [
        {
          "output_type": "stream",
          "text": [
            "Random Forests\n",
            "Score: 84.05%\n"
          ],
          "name": "stdout"
        }
      ]
    },
    {
      "cell_type": "markdown",
      "metadata": {
        "id": "WbaVSQ5TXs9Q"
      },
      "source": [
        "## SVM"
      ]
    },
    {
      "cell_type": "code",
      "metadata": {
        "colab": {
          "base_uri": "https://localhost:8080/"
        },
        "id": "Ds99WE6WXtvn",
        "outputId": "1e8016dc-ea6e-4e05-ab3d-d695ce14c692"
      },
      "source": [
        "from sklearn import svm\n",
        "\n",
        "print(\"SVM\")\n",
        "svm_model = svm.SVC()\n",
        "\n",
        "svm_model.fit(features, labels)\n",
        "\n",
        "res = svm_model.score(test_features, test_labels)\n",
        "print(\"Score: {:.2f}%\".format(res * 100)) # 84%, 15s"
      ],
      "execution_count": null,
      "outputs": [
        {
          "output_type": "stream",
          "text": [
            "SVM\n",
            "Score: 84.70%\n"
          ],
          "name": "stdout"
        }
      ]
    },
    {
      "cell_type": "markdown",
      "metadata": {
        "id": "AwsN-PJeXv3J"
      },
      "source": [
        "## Get Confusion Matrix of SVM"
      ]
    },
    {
      "cell_type": "code",
      "metadata": {
        "colab": {
          "base_uri": "https://localhost:8080/",
          "height": 279
        },
        "id": "N23DA1P4Xx0A",
        "outputId": "2099272f-f260-4c5e-fe20-46d91d9868b1"
      },
      "source": [
        "from sklearn.metrics import plot_confusion_matrix\n",
        "import matplotlib.pyplot as plt\n",
        "\n",
        "plot_confusion_matrix(svm_model, test_features, test_labels)\n",
        "plt.show()"
      ],
      "execution_count": null,
      "outputs": [
        {
          "output_type": "display_data",
          "data": {
            "text/plain": [
              "<Figure size 432x288 with 2 Axes>"
            ],
            "image/png": "[encoded data removed]"
          },
          "metadata": {
            "tags": [],
            "needs_background": "light"
          }
        }
      ]
    }
  ]
}